{
 "cells": [
  {
   "cell_type": "code",
   "execution_count": 1,
   "id": "322b88b2-4920-457e-a0a0-320ade7bd3a2",
   "metadata": {},
   "outputs": [],
   "source": [
    "import sys\n",
    "sys.path.append('../../software/main_distortion_generation/')\n",
    "from gen import *\n",
    "import vis_utils as vu\n",
    "import PIL\n",
    "import meshplot as mp\n",
    "import pandas as pd\n",
    "from matplotlib import cm"
   ]
  },
  {
   "cell_type": "code",
   "execution_count": 2,
   "id": "5912bbb4-21ad-4f9a-9d05-93b688056008",
   "metadata": {
    "tags": []
   },
   "outputs": [],
   "source": [
    "def split_tris_snapped(v,f,fid, bc):\n",
    "    pins = (v[f[fid]]*bc[:,:,None]).sum(axis=1)\n",
    "    f1, cnt = [], 0\n",
    "    nv = len(v)\n",
    "    f = f.copy()\n",
    "    for n, (ti, b) in enumerate(zip(fid,pins)):\n",
    "        a0,a1,a2 = f[ti]\n",
    "        f[ti] = [n + nv, a0, a1]\n",
    "        f1.append([n + nv, a1, a2])\n",
    "        f1.append([n + nv, a2, a0])\n",
    "    v_c, f_c =  np.concatenate([v, pins]), np.concatenate([f, f1])\n",
    "    v1,inI, inJ, f1 = igl.remove_duplicate_vertices(v_c, f_c, 1e-2)\n",
    "    #print(inI.shape, inJ.shape)\n",
    "    return v1,f1, inJ[(np.arange(len(v), len(v) +len(pins)))]\n"
   ]
  },
  {
   "cell_type": "code",
   "execution_count": 3,
   "id": "7a2c330b-44ea-4cc2-982e-a028ffc758fa",
   "metadata": {},
   "outputs": [],
   "source": [
    "def split_tris(v,f,fid, bc):\n",
    "    pins = (v[f[fid]]*bc[:,:,None]).sum(axis=1)\n",
    "    f1, cnt = [], 0\n",
    "    nv = len(v)\n",
    "    f = f.copy()\n",
    "    for n, (ti, b) in enumerate(zip(fid,pins)):\n",
    "        a0,a1,a2 = f[ti]\n",
    "        f[ti] = [n + nv, a0, a1]\n",
    "        f1.append([n + nv, a1, a2])\n",
    "        f1.append([n + nv, a2, a0])\n",
    "    return np.concatenate([v, pins]), np.concatenate([f, f1]), np.arange(len(v), len(v) + len(pins), dtype=int)\n",
    "\n",
    "def region_average(jod_dict):\n",
    "    for i in range(6,19):\n",
    "        avg = (jod_dict[i] + jod_dict[i+13])/2\n",
    "        jod_dict[i] = avg\n",
    "        jod_dict[i+13] = avg\n",
    "\n",
    "def colorbar(mn, ma, ticks = None):\n",
    "    ra = ma - mn\n",
    "    import matplotlib.pyplot as plt\n",
    "    import numpy as np\n",
    "    fig,ax = plt.subplots(figsize=(10,10))\n",
    "    im = ax.imshow(np.array([[0,1]])*ra + mn, aspect=1e-4)\n",
    "    ax.axis('off')\n",
    "    cbar = plt.colorbar(im,orientation='horizontal', location='top')\n",
    "    #cbar.set_ticks(np.linspace(1,3,5))\n",
    "    #cbar.ax.set_yticklabels(np.linspace(1,3,5))\n",
    "    plt.show()\n",
    "# colorbar(1,3)"
   ]
  },
  {
   "cell_type": "code",
   "execution_count": 4,
   "id": "119e906a-360a-49fa-b4bd-de9bdad34734",
   "metadata": {},
   "outputs": [],
   "source": [
    "def array_of_jod(jods, ind):\n",
    "    l = np.zeros(len(ind))\n",
    "    l[ind] = jods\n",
    "    return l, np.sort(ind)\n",
    "\n",
    "def interpolate(spl_v, spl_f, keys, vals):\n",
    "    back_verts = np.where(spl_v[:,2]<-100)[0].astype(int)\n",
    "    back_vals = 0*np.ones(len(back_verts))\n",
    "\n",
    "    interp_vals = igl.harmonic_weights(spl_v, spl_f, \n",
    "                                       b = np.concatenate([keys, back_verts]),\n",
    "                                       bc = np.concatenate([vals, back_vals]), \n",
    "                                       k = 2)\n",
    "    return interp_vals\n"
   ]
  },
  {
   "cell_type": "code",
   "execution_count": 5,
   "id": "00509a52-1cfc-4517-a0de-22760dfe21b7",
   "metadata": {},
   "outputs": [],
   "source": [
    "def read_jod_data(file, headx):\n",
    "    table = pd.read_csv(file)\n",
    "    if 'scene' in table:\n",
    "        table = table[table['scene'] == headx]\n",
    "    ref_id = (table[table.condition.str.contains('ref')].index[0])\n",
    "    table['jod'] = table['jod'] - table.iloc[ref_id]['jod']\n",
    "    # print(len(table))\n",
    "    # assert len(table) == 191\n",
    "    return table\n"
   ]
  },
  {
   "cell_type": "code",
   "execution_count": null,
   "id": "890885b1-021a-4197-b721-31b70da2a379",
   "metadata": {},
   "outputs": [],
   "source": [
    "CSV_ROOT = '../../data/main_study/processed/bootstrap100/'\n",
    "\n",
    "head_path = '../../software/main_distortion_generation'\n",
    "headx = 'head1'\n",
    "v,tv,_, f,tf,_ = igl.read_obj(f'{head_path}/data/{headx}.obj')\n",
    "pts = np.load(f'{head_path}/data/landmarks.npy')\n",
    "fid, bc = du.lift_uv(tv,tf,pts)\n",
    "colors = np.asarray(PIL.ImageOps.flip(PIL.Image.open(f'{head_path}/data/{headx}.png')), dtype=np.float32)[:,:,:3]/255\n",
    "spl_v, spl_f,vert_selected = split_tris(v,f,fid,bc)\n",
    "table = read_jod_data(CSV_ROOT + f'head-final-perartifact-jod.csv',\n",
    "             headx)"
   ]
  },
  {
   "cell_type": "markdown",
   "id": "2d284e01-d8f0-42ba-a229-61c846d4a86b",
   "metadata": {},
   "source": [
    "headx = 'head1'\n",
    "v,tv,_, f,tf,_ = igl.read_obj('C:/Users/jzs/wrapref-in-artist-body-sown.obj')\n",
    "pts = np.load('snapper-landmark.npy')\n",
    "fid, bc = du.lift_uv(tv,tf,pts)\n",
    "colors = np.asarray(PIL.ImageOps.flip(PIL.Image.open(f'data/{headx}.png')), dtype=np.float32)[:,:,:3]/255\n",
    "spl_v, spl_f, vert_selected = split_tris_snapped(v,f,fid,bc)\n",
    "#spl_v, spl_f = split_tris(v,f,fid,bc)"
   ]
  },
  {
   "cell_type": "markdown",
   "id": "98011759-e459-4b25-93c6-f2e5012b9575",
   "metadata": {},
   "source": [
    "# Total Map"
   ]
  },
  {
   "cell_type": "code",
   "execution_count": 11,
   "id": "a961d0fa-b99b-432f-ae12-c6610dea629a",
   "metadata": {},
   "outputs": [],
   "source": [
    "def extract_and_interpolate_values(subtable):\n",
    "    def func(x):\n",
    "        if '_' in x:\n",
    "            return int(x.split('_')[-1][1:])\n",
    "        else:\n",
    "            return int(x[1:])\n",
    "    jod_vals,jod_keys = array_of_jod(np.asarray(subtable.jod),\n",
    "             list(map(func,\n",
    "                     np.asarray(subtable['condition']))))\n",
    "    if len(jod_keys) == 19:\n",
    "        print('Note: auto complete left side of the face')\n",
    "        jod_vals,jod_keys = np.concatenate([jod_vals, jod_vals[6:]]), np.concatenate([jod_keys, np.arange(6,6+13)+13])\n",
    "    interp_vals = interpolate(spl_v, spl_f, keys = vert_selected,\n",
    "                              vals = - np.clip(jod_vals,-5,0))\n",
    "    print(interp_vals.max(), interp_vals.min())\n",
    "    return interp_vals"
   ]
  },
  {
   "cell_type": "code",
   "execution_count": 12,
   "id": "5448574a-1faa-4657-be9b-469e2f5343d9",
   "metadata": {},
   "outputs": [
    {
     "name": "stdout",
     "output_type": "stream",
     "text": [
      "Note: auto complete left side of the face\n",
      "1.3557097434937104 -0.15828210403932577\n",
      "Note: auto complete left side of the face\n",
      "1.2039471484570254 -0.15073909803515848\n",
      "Note: auto complete left side of the face\n",
      "1.2394597149855382 -0.10178958789345563\n",
      "Note: auto complete left side of the face\n",
      "1.186614325363427 -0.0005324806253699533\n",
      "Note: auto complete left side of the face\n",
      "2.5265648649322827 -0.0010059315128891537\n",
      "Note: auto complete left side of the face\n",
      "0.8559621288862863 -0.00023926523774258694\n"
     ]
    }
   ],
   "source": [
    "# Color Plot\n",
    "arti_types = ['simp', 'smooth', 'noise', 'jpg','resample']\n",
    "\n",
    "map_dicts = {}\n",
    "for art in arti_types:\n",
    "    st = table[table.condition.str.startswith(art)]\n",
    "    map_dicts[art] = extract_and_interpolate_values(st)\n",
    "joint = read_jod_data(CSV_ROOT + f'head-final-joint-jod.csv',\n",
    "             headx)\n",
    "map_dicts['total']= extract_and_interpolate_values(joint[joint.condition != 'ref'])"
   ]
  },
  {
   "cell_type": "markdown",
   "id": "fff56718-7f7b-419c-8a34-a14af10bb619",
   "metadata": {},
   "source": [
    "np.savez('map_dict.npz', **map_dicts)"
   ]
  },
  {
   "cell_type": "code",
   "execution_count": null,
   "id": "1c1fdc6e-9ad8-4cee-8b50-6d89edd16e53",
   "metadata": {},
   "outputs": [],
   "source": [
    "bc = igl.barycenter(spl_v,spl_f)\n",
    "\n",
    "sliced_f = spl_f[bc[:,1] + bc[:,2] >-140]\n",
    "\n",
    "spl_vn = igl.per_vertex_normals(spl_v,spl_f)\n",
    "\n",
    "for k in arti_types:\n",
    "    vw = mp.plot(spl_v,sliced_f, c = cm.viridis(map_dicts[k] / 1.5)[:,:3],\n",
    "            shading=dict(wireframe=False, flat=False))\n"
   ]
  }
 ],
 "metadata": {
  "kernelspec": {
   "display_name": "Python 3 (ipykernel)",
   "language": "python",
   "name": "python3"
  },
  "language_info": {
   "codemirror_mode": {
    "name": "ipython",
    "version": 3
   },
   "file_extension": ".py",
   "mimetype": "text/x-python",
   "name": "python",
   "nbconvert_exporter": "python",
   "pygments_lexer": "ipython3",
   "version": "3.8.17"
  }
 },
 "nbformat": 4,
 "nbformat_minor": 5
}
